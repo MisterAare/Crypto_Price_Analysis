{
  "nbformat": 4,
  "nbformat_minor": 0,
  "metadata": {
    "colab": {
      "provenance": [],
      "collapsed_sections": [
        "-CskflcnliXL",
        "xZ3ZltkCl8kY"
      ],
      "include_colab_link": true
    },
    "kernelspec": {
      "name": "python3",
      "display_name": "Python 3"
    },
    "language_info": {
      "name": "python"
    }
  },
  "cells": [
    {
      "cell_type": "markdown",
      "metadata": {
        "id": "view-in-github",
        "colab_type": "text"
      },
      "source": [
        "<a href=\"https://colab.research.google.com/github/MisterAare/Crypto_Price_Analysis/blob/main/Crypto_Price_Analysis.ipynb\" target=\"_parent\"><img src=\"https://colab.research.google.com/assets/colab-badge.svg\" alt=\"Open In Colab\"/></a>"
      ]
    },
    {
      "cell_type": "code",
      "execution_count": null,
      "metadata": {
        "id": "zRpQHqXzkV9g"
      },
      "outputs": [],
      "source": [
        "import pandas as pd\n",
        "import yfinance as yf\n",
        "\n",
        "import datetime\n",
        "from datetime import date, timedelta\n",
        "\n",
        "today = date.today()\n",
        "d1 = today.strftime(\"%Y-%m-%d\")\n",
        "end_date = d1 # assign the d1 to a variable\n",
        "d2 = date.today() - timedelta(days=730)\n",
        "d2 = d2.strftime(\"%Y-%m-%d\")\n",
        "\n",
        "'''\n",
        "This Python code snippet calculates a date by subtracting 730 days from the current date and then converts the resulting date into the YY-MM-DD string format.\n",
        "Here's a breakdown of the code:\n",
        "\n",
        "- `date.today()` returns the current date.\n",
        "- `timedelta(days=730)` is a datetime function that creates a time difference of 730 days from the current date.\n",
        "- `date.today() - timedelta(days=730)` subtracts 730 days from the current date, resulting in a new date that is 730 days ago from the current date.\n",
        "- `d2` is the variable that stores the resulting date of the above calculation.\n",
        "- `d2.strftime(\"%y-%m-%d\") transforms the computed date into a string format, with %y representing the two-digit year, %m representing the two-digit month, and %d representing the two-digit day.\n",
        "\n",
        "In essence, this code determines a date that occurred 730 days before the current date and formats it as YY-MM-DD.\n",
        "'''\n",
        "\n",
        "start_date = d2 # # assign the d2 to a variable\n",
        "\n",
        "# EXTRACTING DATA FOR BITCOIN (BTC) AND SAVE AS TEXT FILE\n",
        "\n",
        "df_btc = yf.download('BTC-USD',\n",
        "                      start=start_date,\n",
        "                      end=end_date,\n",
        "                      progress=False)\n",
        "\n",
        "df_btc[\"Date\"] = df_btc.index\n",
        "\n",
        "df_btc = df_btc[[\"Date\", \"Open\", \"High\", \"Low\", \"Close\", \"Adj Close\", \"Volume\"]]\n",
        "\n",
        "df_btc.reset_index(drop=True, inplace=True)\n",
        "\n",
        "print(df_btc.head())\n",
        "df_btc.to_csv('BTC.csv')\n",
        "\n",
        "# EXTRACTING DATA FOR ETHEREUM (ETH) AND SAVE AS TEXT FILE\n",
        "\n",
        "df_eth = yf.download('ETH-USD',\n",
        "                      start=start_date,\n",
        "                      end=end_date,\n",
        "                      progress=False)\n",
        "\n",
        "df_eth[\"Date\"] = df_eth.index\n",
        "\n",
        "df_eth = df_eth[[\"Date\", \"Open\", \"High\", \"Low\", \"Close\", \"Adj Close\", \"Volume\"]]\n",
        "\n",
        "df_eth.reset_index(drop=True, inplace=True)\n",
        "\n",
        "print(df_eth.head())\n",
        "df_eth.to_csv('ETH.csv')\n",
        "\n",
        "# EXTRACTING DATA FOR LITECOIN (LTC) AND SAVE AS TEXT FILE\n",
        "\n",
        "df_ltc = yf.download('LTC-USD',\n",
        "                      start=start_date,\n",
        "                      end=end_date,\n",
        "                      progress=False)\n",
        "\n",
        "df_ltc[\"Date\"] = df_ltc.index\n",
        "\n",
        "df_ltc = df_ltc[[\"Date\", \"Open\", \"High\", \"Low\", \"Close\", \"Adj Close\", \"Volume\"]]\n",
        "\n",
        "df_ltc.reset_index(drop=True, inplace=True)\n",
        "\n",
        "print(df_ltc.head())\n",
        "df_ltc.to_csv('LTC.csv')"
      ]
    }
  ]
}